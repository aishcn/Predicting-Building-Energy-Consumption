{
 "cells": [
  {
   "cell_type": "markdown",
   "id": "52d983ed",
   "metadata": {},
   "source": [
    "## Run the following models:\n",
    "\n",
    "### Linear Regression models. [Y~.]\n",
    "A Dummy for Year factor/Year Built, controls for building class/facility type/statefactor and dummies for monthly temperatures\n",
    "\n",
    "### Diff in Diff model.\n",
    "\n",
    "•\tState Differences: Could provide answers on how EUIs are impacted in different states, due to different policies.\n",
    "\n",
    "•\tYear Built: Could provide answers about the need for retrofitting or demolishing. \n",
    "Process: take State0/Year0 as base case and compare the linear regression models across.\n",
    "\n",
    "### Regression Trees\n",
    "Turn it into a classification problem, by setting an acceptable rate of eui (looking at current policy). Fit a random forest algorithm to obtain coefficients that determine if the building energy is too high.\n",
    "\n",
    "### RNN:\n",
    "Fit a supervised learning model preferably a RNN to compare the econometric model with ML model and observe any deviances.\n",
    "\n",
    "## formulating transformations\n",
    "\n",
    "[Relating residential and commercial sector electricity loads to climate—evaluating state level sensitivities and vulnerabilities by David J Sailor](https://www.sciencedirect.com/science/article/pii/S0360544201000238?pes=vor)\n",
    "\n",
    "$$E = \\beta_0 + \\beta_1 CDD + \\beta_2 HDD + \\beta_3 U + \\beta_4 ELD$$\n",
    "\n",
    "$$E = 28.36 + 0.0138 CDD + 0.0087 HDD + -0.0175 U + Z_t$$\n",
    "$E$ is energy use, \n",
    "$CDD$ is cooling days\n",
    "$HDD$ is heating days\n",
    "$U$ is max wind speed\n",
    "\n",
    "\n",
    "\n",
    "### population weighted monthly average temp\n",
    "\n",
    "$$T = CDD- HDD + 65 * D$$"
   ]
  },
  {
   "cell_type": "code",
   "execution_count": 2,
   "id": "d35bfa18",
   "metadata": {},
   "outputs": [],
   "source": [
    "# importing libraries\n",
    "import numpy as np\n",
    "import matplotlib.pyplot as plt\n",
    "import pandas as pd\n",
    "import seaborn as sns\n",
    "# loading in DATA\n",
    "train_df = pd.read_csv('data/kaggle/train.csv')\n",
    "# train_df."
   ]
  },
  {
   "cell_type": "code",
   "execution_count": 5,
   "id": "307c3c69",
   "metadata": {},
   "outputs": [],
   "source": [
    "# windDf['max_wind_speed'].value_counts()"
   ]
  },
  {
   "cell_type": "code",
   "execution_count": 6,
   "id": "82163160",
   "metadata": {},
   "outputs": [
    {
     "data": {
      "text/plain": [
       "direction_max_wind_speed   1.0      27724.0\n",
       "                           270.0       12.0\n",
       "                           280.0       22.0\n",
       "                           300.0        7.0\n",
       "                           310.0     2439.0\n",
       "                           320.0       49.0\n",
       "                           330.0     3011.0\n",
       "                           340.0        1.0\n",
       "                           350.0      485.0\n",
       "                           360.0      925.0\n",
       "direction_peak_wind_speed  1.0      27699.0\n",
       "                           270.0       12.0\n",
       "                           310.0     1260.0\n",
       "                           320.0      491.0\n",
       "                           330.0      104.0\n",
       "                           340.0     2931.0\n",
       "                           350.0        3.0\n",
       "                           360.0     1446.0\n",
       "max_wind_speed             1.0      27724.0\n",
       "                           10.7         4.0\n",
       "                           12.5        12.0\n",
       "                           13.0      1260.0\n",
       "                           13.4       489.0\n",
       "                           15.7         4.0\n",
       "                           16.5         1.0\n",
       "                           17.0       934.0\n",
       "                           17.4       317.0\n",
       "                           17.9         3.0\n",
       "                           18.3      3096.0\n",
       "                           19.2       695.0\n",
       "                           19.7         3.0\n",
       "                           20.6        81.0\n",
       "                           21.5         4.0\n",
       "                           23.3        48.0\n",
       "dtype: float64"
      ]
     },
     "execution_count": 6,
     "metadata": {},
     "output_type": "execute_result"
    }
   ],
   "source": [
    "windsensordf = train_df[train_df.max_wind_speed.isna()==False]\n",
    "windDf = windsensordf[['direction_max_wind_speed','direction_peak_wind_speed','max_wind_speed']]\n",
    "\n",
    "windDf.apply(lambda x: x.value_counts()).T.stack()"
   ]
  },
  {
   "cell_type": "markdown",
   "id": "2f83ccca",
   "metadata": {},
   "source": [
    " going to remove the dummy values 1 from the wind data"
   ]
  },
  {
   "cell_type": "code",
   "execution_count": 7,
   "id": "1cf5b95d",
   "metadata": {},
   "outputs": [],
   "source": [
    "windsensordf = windsensordf.drop('direction_peak_wind_speed',axis=1)"
   ]
  },
  {
   "cell_type": "code",
   "execution_count": 8,
   "id": "2f298463",
   "metadata": {},
   "outputs": [],
   "source": [
    "reg_dfX = windsensordf[['cooling_degree_days','heating_degree_days','direction_max_wind_speed','max_wind_speed','site_eui']]#.fillna(0)\n",
    "#reg_dfX = reg_dfX[reg_dfX.direction_peak_wind_speed.isna()==False]\n",
    "# i dropped the peak wind speed as it was 0.96 coreelated with max wind speed, and as per definition it only lasts for a few seconds\n",
    "# hence max speed is more necessary.\n",
    "reg_dfy = reg_dfX.site_eui\n",
    "reg_dfX = reg_dfX.drop(['site_eui'],axis=1)\n"
   ]
  },
  {
   "cell_type": "code",
   "execution_count": 9,
   "id": "ec14bf44",
   "metadata": {},
   "outputs": [
    {
     "data": {
      "text/plain": [
       "34675"
      ]
     },
     "execution_count": 9,
     "metadata": {},
     "output_type": "execute_result"
    }
   ],
   "source": [
    "len(windsensordf)"
   ]
  },
  {
   "cell_type": "markdown",
   "id": "2f5f7e51",
   "metadata": {},
   "source": [
    "NA values test"
   ]
  },
  {
   "cell_type": "code",
   "execution_count": 10,
   "id": "0810475e",
   "metadata": {},
   "outputs": [
    {
     "data": {
      "text/plain": [
       "0.0"
      ]
     },
     "execution_count": 10,
     "metadata": {},
     "output_type": "execute_result"
    }
   ],
   "source": [
    "total = len(reg_dfX['heating_degree_days'])\n",
    "naCount = sum(reg_dfX['max_wind_speed'].isna())\n",
    "naCount/total"
   ]
  },
  {
   "cell_type": "markdown",
   "id": "58aaec67",
   "metadata": {},
   "source": [
    "## Linear Regression"
   ]
  },
  {
   "cell_type": "code",
   "execution_count": 11,
   "id": "76a30a6c",
   "metadata": {},
   "outputs": [],
   "source": [
    "from sklearn.linear_model import LinearRegression\n",
    "model = LinearRegression().fit(y = reg_dfy,X = reg_dfX)\n",
    "r_sq = model.score(y = reg_dfy,X = reg_dfX)"
   ]
  },
  {
   "cell_type": "code",
   "execution_count": 12,
   "id": "0cff819a",
   "metadata": {},
   "outputs": [
    {
     "data": {
      "text/html": [
       "<div>\n",
       "<style scoped>\n",
       "    .dataframe tbody tr th:only-of-type {\n",
       "        vertical-align: middle;\n",
       "    }\n",
       "\n",
       "    .dataframe tbody tr th {\n",
       "        vertical-align: top;\n",
       "    }\n",
       "\n",
       "    .dataframe thead th {\n",
       "        text-align: right;\n",
       "    }\n",
       "</style>\n",
       "<table border=\"1\" class=\"dataframe\">\n",
       "  <thead>\n",
       "    <tr style=\"text-align: right;\">\n",
       "      <th></th>\n",
       "      <th>cooling_degree_days</th>\n",
       "      <th>heating_degree_days</th>\n",
       "      <th>direction_max_wind_speed</th>\n",
       "      <th>max_wind_speed</th>\n",
       "    </tr>\n",
       "  </thead>\n",
       "  <tbody>\n",
       "    <tr>\n",
       "      <th>0</th>\n",
       "      <td>False</td>\n",
       "      <td>False</td>\n",
       "      <td>False</td>\n",
       "      <td>False</td>\n",
       "    </tr>\n",
       "    <tr>\n",
       "      <th>1</th>\n",
       "      <td>False</td>\n",
       "      <td>False</td>\n",
       "      <td>False</td>\n",
       "      <td>False</td>\n",
       "    </tr>\n",
       "    <tr>\n",
       "      <th>2</th>\n",
       "      <td>False</td>\n",
       "      <td>False</td>\n",
       "      <td>False</td>\n",
       "      <td>False</td>\n",
       "    </tr>\n",
       "    <tr>\n",
       "      <th>3</th>\n",
       "      <td>False</td>\n",
       "      <td>False</td>\n",
       "      <td>False</td>\n",
       "      <td>False</td>\n",
       "    </tr>\n",
       "    <tr>\n",
       "      <th>4</th>\n",
       "      <td>False</td>\n",
       "      <td>False</td>\n",
       "      <td>False</td>\n",
       "      <td>False</td>\n",
       "    </tr>\n",
       "    <tr>\n",
       "      <th>...</th>\n",
       "      <td>...</td>\n",
       "      <td>...</td>\n",
       "      <td>...</td>\n",
       "      <td>...</td>\n",
       "    </tr>\n",
       "    <tr>\n",
       "      <th>73151</th>\n",
       "      <td>False</td>\n",
       "      <td>False</td>\n",
       "      <td>False</td>\n",
       "      <td>False</td>\n",
       "    </tr>\n",
       "    <tr>\n",
       "      <th>73152</th>\n",
       "      <td>False</td>\n",
       "      <td>False</td>\n",
       "      <td>False</td>\n",
       "      <td>False</td>\n",
       "    </tr>\n",
       "    <tr>\n",
       "      <th>73153</th>\n",
       "      <td>False</td>\n",
       "      <td>False</td>\n",
       "      <td>False</td>\n",
       "      <td>False</td>\n",
       "    </tr>\n",
       "    <tr>\n",
       "      <th>73154</th>\n",
       "      <td>False</td>\n",
       "      <td>False</td>\n",
       "      <td>False</td>\n",
       "      <td>False</td>\n",
       "    </tr>\n",
       "    <tr>\n",
       "      <th>73155</th>\n",
       "      <td>False</td>\n",
       "      <td>False</td>\n",
       "      <td>False</td>\n",
       "      <td>False</td>\n",
       "    </tr>\n",
       "  </tbody>\n",
       "</table>\n",
       "<p>34675 rows × 4 columns</p>\n",
       "</div>"
      ],
      "text/plain": [
       "       cooling_degree_days  heating_degree_days  direction_max_wind_speed  \\\n",
       "0                    False                False                     False   \n",
       "1                    False                False                     False   \n",
       "2                    False                False                     False   \n",
       "3                    False                False                     False   \n",
       "4                    False                False                     False   \n",
       "...                    ...                  ...                       ...   \n",
       "73151                False                False                     False   \n",
       "73152                False                False                     False   \n",
       "73153                False                False                     False   \n",
       "73154                False                False                     False   \n",
       "73155                False                False                     False   \n",
       "\n",
       "       max_wind_speed  \n",
       "0               False  \n",
       "1               False  \n",
       "2               False  \n",
       "3               False  \n",
       "4               False  \n",
       "...               ...  \n",
       "73151           False  \n",
       "73152           False  \n",
       "73153           False  \n",
       "73154           False  \n",
       "73155           False  \n",
       "\n",
       "[34675 rows x 4 columns]"
      ]
     },
     "execution_count": 12,
     "metadata": {},
     "output_type": "execute_result"
    }
   ],
   "source": [
    "reg_dfX.isna()"
   ]
  },
  {
   "cell_type": "code",
   "execution_count": 13,
   "id": "8d379049",
   "metadata": {},
   "outputs": [
    {
     "data": {
      "text/plain": [
       "0.009176704913901101"
      ]
     },
     "execution_count": 13,
     "metadata": {},
     "output_type": "execute_result"
    }
   ],
   "source": [
    "r_sq"
   ]
  },
  {
   "cell_type": "code",
   "execution_count": 14,
   "id": "bf3485bf",
   "metadata": {},
   "outputs": [
    {
     "data": {
      "text/plain": [
       "27.267357922448994"
      ]
     },
     "execution_count": 14,
     "metadata": {},
     "output_type": "execute_result"
    }
   ],
   "source": [
    "model.intercept_"
   ]
  },
  {
   "cell_type": "code",
   "execution_count": 15,
   "id": "c8c7ff02",
   "metadata": {},
   "outputs": [
    {
     "data": {
      "text/plain": [
       "1.2691914749669936e-07"
      ]
     },
     "execution_count": 15,
     "metadata": {},
     "output_type": "execute_result"
    }
   ],
   "source": [
    "import math\n",
    "import statistics\n",
    "preds = model.predict(X = reg_dfX)\n",
    "rmse = math.sqrt(abs(statistics.mean(reg_dfy - preds)))\n",
    "rmse"
   ]
  },
  {
   "cell_type": "code",
   "execution_count": 16,
   "id": "2c57a601",
   "metadata": {},
   "outputs": [
    {
     "data": {
      "text/plain": [
       "Text(0.5, 1.0, 'Residual plot')"
      ]
     },
     "execution_count": 16,
     "metadata": {},
     "output_type": "execute_result"
    },
    {
     "data": {
      "image/png": "[encoded data removed]",
      "text/plain": [
       "<Figure size 720x360 with 1 Axes>"
      ]
     },
     "metadata": {
      "needs_background": "light"
     },
     "output_type": "display_data"
    }
   ],
   "source": [
    "#temperature_dat = train_df.loc[:,'january_min_temp':'december_max_temp']\n",
    "#test = temperature_dat.filter(like='avg')\n",
    "#test.head()\n",
    "plt.figure(figsize=(10,5))\n",
    "#plt.plot(preds.transpose())\n",
    "plt.plot(reg_dfy,preds.transpose(),'bo')\n",
    "plt.xlabel('site_eui')\n",
    "plt.ylabel('regression_prediction')\n",
    "plt.title('Residual plot')\n",
    "#plt.legend(test.columns,loc='right')"
   ]
  },
  {
   "cell_type": "code",
   "execution_count": 17,
   "id": "427aa771",
   "metadata": {},
   "outputs": [
    {
     "data": {
      "text/plain": [
       "array([ 0.01117393,  0.01029013, -0.01622041,  0.11947126])"
      ]
     },
     "execution_count": 17,
     "metadata": {},
     "output_type": "execute_result"
    }
   ],
   "source": [
    "model.coef_"
   ]
  },
  {
   "cell_type": "markdown",
   "id": "ebe13f4b",
   "metadata": {},
   "source": [
    "$$E = 60.85 + -0.004 CDD + 0.008 HDD + -0.019 \\gamma + 0.105 U + Z_t$$"
   ]
  },
  {
   "cell_type": "code",
   "execution_count": 18,
   "id": "56fc7c12",
   "metadata": {},
   "outputs": [
    {
     "data": {
      "text/plain": [
       "(array([8.0000e+00, 4.6000e+01, 9.0000e+00, 6.2000e+01, 6.0600e+02,\n",
       "        6.3200e+02, 9.0000e+00, 6.5220e+03, 2.6349e+04, 4.3200e+02]),\n",
       " array([3.76497611, 3.85130115, 3.9376262 , 4.02395124, 4.11027628,\n",
       "        4.19660133, 4.28292637, 4.36925142, 4.45557646, 4.54190151,\n",
       "        4.62822655]),\n",
       " <BarContainer object of 10 artists>)"
      ]
     },
     "execution_count": 18,
     "metadata": {},
     "output_type": "execute_result"
    },
    {
     "data": {
      "image/png": "[encoded data removed]",
      "text/plain": [
       "<Figure size 432x288 with 1 Axes>"
      ]
     },
     "metadata": {
      "needs_background": "light"
     },
     "output_type": "display_data"
    }
   ],
   "source": [
    "plt.hist(np.log(preds))"
   ]
  },
  {
   "cell_type": "code",
   "execution_count": null,
   "id": "59c0ab8d",
   "metadata": {},
   "outputs": [],
   "source": []
  },
  {
   "cell_type": "markdown",
   "id": "041016ff",
   "metadata": {},
   "source": [
    "## Random forest "
   ]
  },
  {
   "cell_type": "code",
   "execution_count": 19,
   "id": "1ba631ca",
   "metadata": {},
   "outputs": [],
   "source": [
    "# from sklearn.ensemble import RandomForestRegressor\n",
    "# rf = RandomForestRegressor(n_estimators=80, max_features='auto')\n",
    "# trainX = windsensordf.iloc[:-1,:]\n",
    "# trainy = windsensordf['site_eui']\n",
    "# rf.fit(trainX, trainy)\n",
    "# print(\"Training done using Random Forest\")\n",
    "\n",
    "# ranking = np.argsort(-rf.feature_importances_)\n",
    "# f, ax = plt.subplots(figsize=(11,9))\n",
    "# sns.barplot(x=rf.feature_importances_[ranking], y=trainX.columns.values[ranking], orient='h')\n",
    "# ax.set_xlabel(\"Feature Importance\")\n",
    "# plt.tight_layout()\n",
    "# plt.show()"
   ]
  },
  {
   "cell_type": "code",
   "execution_count": 20,
   "id": "e74aa908",
   "metadata": {},
   "outputs": [],
   "source": [
    "# rf.score(y = reg_dfy,X = reg_dfX)"
   ]
  },
  {
   "cell_type": "markdown",
   "id": "6779f0a8",
   "metadata": {},
   "source": [
    "Running the model on annual total days data"
   ]
  },
  {
   "cell_type": "code",
   "execution_count": 21,
   "id": "c3a8b62d",
   "metadata": {},
   "outputs": [
    {
     "data": {
      "text/html": [
       "<div>\n",
       "<style scoped>\n",
       "    .dataframe tbody tr th:only-of-type {\n",
       "        vertical-align: middle;\n",
       "    }\n",
       "\n",
       "    .dataframe tbody tr th {\n",
       "        vertical-align: top;\n",
       "    }\n",
       "\n",
       "    .dataframe thead th {\n",
       "        text-align: right;\n",
       "    }\n",
       "</style>\n",
       "<table border=\"1\" class=\"dataframe\">\n",
       "  <thead>\n",
       "    <tr style=\"text-align: right;\">\n",
       "      <th></th>\n",
       "      <th>0</th>\n",
       "    </tr>\n",
       "  </thead>\n",
       "  <tbody>\n",
       "    <tr>\n",
       "      <th>0</th>\n",
       "      <td>Year_Factor</td>\n",
       "    </tr>\n",
       "    <tr>\n",
       "      <th>1</th>\n",
       "      <td>State_Factor</td>\n",
       "    </tr>\n",
       "    <tr>\n",
       "      <th>2</th>\n",
       "      <td>building_class</td>\n",
       "    </tr>\n",
       "    <tr>\n",
       "      <th>3</th>\n",
       "      <td>facility_type</td>\n",
       "    </tr>\n",
       "    <tr>\n",
       "      <th>4</th>\n",
       "      <td>floor_area</td>\n",
       "    </tr>\n",
       "    <tr>\n",
       "      <th>...</th>\n",
       "      <td>...</td>\n",
       "    </tr>\n",
       "    <tr>\n",
       "      <th>59</th>\n",
       "      <td>direction_peak_wind_speed</td>\n",
       "    </tr>\n",
       "    <tr>\n",
       "      <th>60</th>\n",
       "      <td>max_wind_speed</td>\n",
       "    </tr>\n",
       "    <tr>\n",
       "      <th>61</th>\n",
       "      <td>days_with_fog</td>\n",
       "    </tr>\n",
       "    <tr>\n",
       "      <th>62</th>\n",
       "      <td>site_eui</td>\n",
       "    </tr>\n",
       "    <tr>\n",
       "      <th>63</th>\n",
       "      <td>id</td>\n",
       "    </tr>\n",
       "  </tbody>\n",
       "</table>\n",
       "<p>64 rows × 1 columns</p>\n",
       "</div>"
      ],
      "text/plain": [
       "                            0\n",
       "0                 Year_Factor\n",
       "1                State_Factor\n",
       "2              building_class\n",
       "3               facility_type\n",
       "4                  floor_area\n",
       "..                        ...\n",
       "59  direction_peak_wind_speed\n",
       "60             max_wind_speed\n",
       "61              days_with_fog\n",
       "62                   site_eui\n",
       "63                         id\n",
       "\n",
       "[64 rows x 1 columns]"
      ]
     },
     "execution_count": 21,
     "metadata": {},
     "output_type": "execute_result"
    }
   ],
   "source": [
    "pd.DataFrame(train_df.columns)"
   ]
  },
  {
   "cell_type": "code",
   "execution_count": 29,
   "id": "ab560dab",
   "metadata": {},
   "outputs": [
    {
     "data": {
      "text/plain": [
       "<AxesSubplot:>"
      ]
     },
     "execution_count": 29,
     "metadata": {},
     "output_type": "execute_result"
    },
    {
     "data": {
      "image/png": "[encoded data removed]",
      "text/plain": [
       "<Figure size 432x288 with 2 Axes>"
      ]
     },
     "metadata": {
      "needs_background": "light"
     },
     "output_type": "display_data"
    }
   ],
   "source": [
    "regX = train_df.iloc[:,44:58].drop('avg_temp',axis=1)\n",
    "# regX.to_pickle('data/datasets/auxregX.pkl')\n",
    "sns.heatmap(regX.corr('spearman'))"
   ]
  },
  {
   "cell_type": "code",
   "execution_count": 31,
   "id": "f190f70e",
   "metadata": {},
   "outputs": [],
   "source": [
    "regY = train_df[['avg_temp']]\n",
    "# regY.to_pickle('data/datasets/auxyreg.pkl')\n",
    "daymodel = LinearRegression().fit(y = regY,X = regX)\n",
    "dayrsq = daymodel.score(y = regY,X = regX)"
   ]
  },
  {
   "cell_type": "code",
   "execution_count": 24,
   "id": "25b3a522",
   "metadata": {},
   "outputs": [
    {
     "data": {
      "text/plain": [
       "0.9996126438190437"
      ]
     },
     "execution_count": 24,
     "metadata": {},
     "output_type": "execute_result"
    }
   ],
   "source": [
    "dayrsq"
   ]
  },
  {
   "cell_type": "code",
   "execution_count": 25,
   "id": "354b737c",
   "metadata": {},
   "outputs": [
    {
     "name": "stderr",
     "output_type": "stream",
     "text": [
      "/usr/local/lib/python3.9/dist-packages/seaborn/distributions.py:2619: FutureWarning: `distplot` is a deprecated function and will be removed in a future version. Please adapt your code to use either `displot` (a figure-level function with similar flexibility) or `histplot` (an axes-level function for histograms).\n",
      "  warnings.warn(msg, FutureWarning)\n"
     ]
    },
    {
     "data": {
      "text/plain": [
       "<AxesSubplot:ylabel='Density'>"
      ]
     },
     "execution_count": 25,
     "metadata": {},
     "output_type": "execute_result"
    },
    {
     "data": {
      "image/png": "[encoded data removed]",
      "text/plain": [
       "<Figure size 432x288 with 1 Axes>"
      ]
     },
     "metadata": {
      "needs_background": "light"
     },
     "output_type": "display_data"
    }
   ],
   "source": [
    "sns.distplot(regY)"
   ]
  },
  {
   "cell_type": "code",
   "execution_count": 26,
   "id": "5ef4bdfb",
   "metadata": {},
   "outputs": [
    {
     "data": {
      "text/plain": [
       "array([[ 0.003, -0.003, -0.005,  0.002,  0.   , -0.001, -0.007, -0.005,\n",
       "         0.012, -0.001,  0.   ,  0.004, -0.027]])"
      ]
     },
     "execution_count": 26,
     "metadata": {},
     "output_type": "execute_result"
    }
   ],
   "source": [
    "daymodel.coef_.round(3)"
   ]
  },
  {
   "cell_type": "markdown",
   "id": "438c64cc",
   "metadata": {},
   "source": [
    "Looking at the results from the regression above, i am going to remove the avg temp and replace it with the auxillary regression equation. to remove multicolinearity from the model.\n",
    "\n",
    "$$\\gamma = \\alpha + 0.003CDD_i - 0.003HDD_i -0.005P_i +0.002S_i + $$"
   ]
  },
  {
   "cell_type": "code",
   "execution_count": 27,
   "id": "5b4acafb",
   "metadata": {},
   "outputs": [
    {
     "data": {
      "text/plain": [
       "Index(['cooling_degree_days', 'heating_degree_days', 'precipitation_inches',\n",
       "       'snowfall_inches', 'snowdepth_inches', 'days_below_30F',\n",
       "       'days_below_20F', 'days_below_10F', 'days_below_0F', 'days_above_80F',\n",
       "       'days_above_90F', 'days_above_100F', 'days_above_110F'],\n",
       "      dtype='object')"
      ]
     },
     "execution_count": 27,
     "metadata": {},
     "output_type": "execute_result"
    }
   ],
   "source": [
    "regX.columns\n"
   ]
  },
  {
   "cell_type": "code",
   "execution_count": 173,
   "id": "47e85b00",
   "metadata": {},
   "outputs": [
    {
     "data": {
      "text/plain": [
       "Year_Factor\n",
       "1    344.789325\n",
       "2      9.330316\n",
       "3     51.440022\n",
       "4    288.925769\n",
       "5    302.115305\n",
       "6     82.136220\n",
       "Name: snowdepth_inches, dtype: float64"
      ]
     },
     "execution_count": 173,
     "metadata": {},
     "output_type": "execute_result"
    }
   ],
   "source": [
    "train_df.groupby('Year_Factor').snowdepth_inches.mean()"
   ]
  },
  {
   "cell_type": "code",
   "execution_count": 174,
   "id": "2ae30ec5",
   "metadata": {},
   "outputs": [
    {
     "data": {
      "text/plain": [
       "State_Factor\n",
       "State_1       1.300997\n",
       "State_10     47.400000\n",
       "State_11      2.439333\n",
       "State_2      33.295627\n",
       "State_4     237.570465\n",
       "State_6     213.452085\n",
       "State_8     116.234531\n",
       "Name: snowdepth_inches, dtype: float64"
      ]
     },
     "execution_count": 174,
     "metadata": {},
     "output_type": "execute_result"
    }
   ],
   "source": [
    "train_df.groupby('State_Factor').snowdepth_inches.mean()"
   ]
  },
  {
   "cell_type": "code",
   "execution_count": 185,
   "id": "9692f965",
   "metadata": {},
   "outputs": [
    {
     "data": {
      "text/plain": [
       "<matplotlib.axes._subplots.AxesSubplot at 0x7fd38202ca90>"
      ]
     },
     "execution_count": 185,
     "metadata": {},
     "output_type": "execute_result"
    },
    {
     "data": {
      "image/png": "[encoded data removed]",
      "text/plain": [
       "<Figure size 432x288 with 1 Axes>"
      ]
     },
     "metadata": {
      "needs_background": "light"
     },
     "output_type": "display_data"
    }
   ],
   "source": [
    "train_df.groupby('Year_Factor').snowfall_inches.mean().plot(kind='bar',title='snow')"
   ]
  },
  {
   "cell_type": "code",
   "execution_count": 184,
   "id": "344f05fe",
   "metadata": {},
   "outputs": [
    {
     "data": {
      "text/plain": [
       "<matplotlib.axes._subplots.AxesSubplot at 0x7fd3858ab2b0>"
      ]
     },
     "execution_count": 184,
     "metadata": {},
     "output_type": "execute_result"
    },
    {
     "data": {
      "image/png": "[encoded data removed]",
      "text/plain": [
       "<Figure size 432x288 with 1 Axes>"
      ]
     },
     "metadata": {
      "needs_background": "light"
     },
     "output_type": "display_data"
    }
   ],
   "source": [
    "train_df.groupby('Year_Factor').precipitation_inches.mean().plot(kind='bar',title='rain')"
   ]
  },
  {
   "cell_type": "code",
   "execution_count": 188,
   "id": "12adf4d8",
   "metadata": {},
   "outputs": [
    {
     "data": {
      "text/plain": [
       "Year_Factor\n",
       "1    AxesSubplot(0.125,0.125;0.775x0.755)\n",
       "2    AxesSubplot(0.125,0.125;0.775x0.755)\n",
       "3    AxesSubplot(0.125,0.125;0.775x0.755)\n",
       "4    AxesSubplot(0.125,0.125;0.775x0.755)\n",
       "5    AxesSubplot(0.125,0.125;0.775x0.755)\n",
       "6    AxesSubplot(0.125,0.125;0.775x0.755)\n",
       "Name: precipitation_inches, dtype: object"
      ]
     },
     "execution_count": 188,
     "metadata": {},
     "output_type": "execute_result"
    },
    {
     "data": {
      "image/png": "[encoded data removed]",
      "text/plain": [
       "<Figure size 432x288 with 1 Axes>"
      ]
     },
     "metadata": {
      "needs_background": "light"
     },
     "output_type": "display_data"
    }
   ],
   "source": [
    "train_df.groupby('Year_Factor').precipitation_inches.hist()"
   ]
  },
  {
   "cell_type": "code",
   "execution_count": 189,
   "id": "3765e516",
   "metadata": {},
   "outputs": [
    {
     "data": {
      "text/html": [
       "<div>\n",
       "<style scoped>\n",
       "    .dataframe tbody tr th:only-of-type {\n",
       "        vertical-align: middle;\n",
       "    }\n",
       "\n",
       "    .dataframe tbody tr th {\n",
       "        vertical-align: top;\n",
       "    }\n",
       "\n",
       "    .dataframe thead th {\n",
       "        text-align: right;\n",
       "    }\n",
       "</style>\n",
       "<table border=\"1\" class=\"dataframe\">\n",
       "  <thead>\n",
       "    <tr style=\"text-align: right;\">\n",
       "      <th></th>\n",
       "      <th>Year_Factor</th>\n",
       "      <th>State_Factor</th>\n",
       "      <th>building_class</th>\n",
       "      <th>facility_type</th>\n",
       "      <th>floor_area</th>\n",
       "      <th>year_built</th>\n",
       "      <th>energy_star_rating</th>\n",
       "      <th>ELEVATION</th>\n",
       "      <th>january_min_temp</th>\n",
       "      <th>january_avg_temp</th>\n",
       "      <th>...</th>\n",
       "      <th>days_above_80F</th>\n",
       "      <th>days_above_90F</th>\n",
       "      <th>days_above_100F</th>\n",
       "      <th>days_above_110F</th>\n",
       "      <th>direction_max_wind_speed</th>\n",
       "      <th>direction_peak_wind_speed</th>\n",
       "      <th>max_wind_speed</th>\n",
       "      <th>days_with_fog</th>\n",
       "      <th>site_eui</th>\n",
       "      <th>id</th>\n",
       "    </tr>\n",
       "  </thead>\n",
       "  <tbody>\n",
       "    <tr>\n",
       "      <th>0</th>\n",
       "      <td>1</td>\n",
       "      <td>State_1</td>\n",
       "      <td>Commercial</td>\n",
       "      <td>Grocery_store_or_food_market</td>\n",
       "      <td>61242.0</td>\n",
       "      <td>1942.0</td>\n",
       "      <td>11.0</td>\n",
       "      <td>2.4</td>\n",
       "      <td>36</td>\n",
       "      <td>50.500000</td>\n",
       "      <td>...</td>\n",
       "      <td>14</td>\n",
       "      <td>0</td>\n",
       "      <td>0</td>\n",
       "      <td>0</td>\n",
       "      <td>1.0</td>\n",
       "      <td>1.0</td>\n",
       "      <td>1.0</td>\n",
       "      <td>NaN</td>\n",
       "      <td>248.682615</td>\n",
       "      <td>0</td>\n",
       "    </tr>\n",
       "    <tr>\n",
       "      <th>1</th>\n",
       "      <td>1</td>\n",
       "      <td>State_1</td>\n",
       "      <td>Commercial</td>\n",
       "      <td>Warehouse_Distribution_or_Shipping_center</td>\n",
       "      <td>274000.0</td>\n",
       "      <td>1955.0</td>\n",
       "      <td>45.0</td>\n",
       "      <td>1.8</td>\n",
       "      <td>36</td>\n",
       "      <td>50.500000</td>\n",
       "      <td>...</td>\n",
       "      <td>14</td>\n",
       "      <td>0</td>\n",
       "      <td>0</td>\n",
       "      <td>0</td>\n",
       "      <td>1.0</td>\n",
       "      <td>NaN</td>\n",
       "      <td>1.0</td>\n",
       "      <td>12.0</td>\n",
       "      <td>26.500150</td>\n",
       "      <td>1</td>\n",
       "    </tr>\n",
       "    <tr>\n",
       "      <th>2</th>\n",
       "      <td>1</td>\n",
       "      <td>State_1</td>\n",
       "      <td>Commercial</td>\n",
       "      <td>Retail_Enclosed_mall</td>\n",
       "      <td>280025.0</td>\n",
       "      <td>1951.0</td>\n",
       "      <td>97.0</td>\n",
       "      <td>1.8</td>\n",
       "      <td>36</td>\n",
       "      <td>50.500000</td>\n",
       "      <td>...</td>\n",
       "      <td>14</td>\n",
       "      <td>0</td>\n",
       "      <td>0</td>\n",
       "      <td>0</td>\n",
       "      <td>1.0</td>\n",
       "      <td>NaN</td>\n",
       "      <td>1.0</td>\n",
       "      <td>12.0</td>\n",
       "      <td>24.693619</td>\n",
       "      <td>2</td>\n",
       "    </tr>\n",
       "    <tr>\n",
       "      <th>3</th>\n",
       "      <td>1</td>\n",
       "      <td>State_1</td>\n",
       "      <td>Commercial</td>\n",
       "      <td>Education_Other_classroom</td>\n",
       "      <td>55325.0</td>\n",
       "      <td>1980.0</td>\n",
       "      <td>46.0</td>\n",
       "      <td>1.8</td>\n",
       "      <td>36</td>\n",
       "      <td>50.500000</td>\n",
       "      <td>...</td>\n",
       "      <td>14</td>\n",
       "      <td>0</td>\n",
       "      <td>0</td>\n",
       "      <td>0</td>\n",
       "      <td>1.0</td>\n",
       "      <td>NaN</td>\n",
       "      <td>1.0</td>\n",
       "      <td>12.0</td>\n",
       "      <td>48.406926</td>\n",
       "      <td>3</td>\n",
       "    </tr>\n",
       "    <tr>\n",
       "      <th>4</th>\n",
       "      <td>1</td>\n",
       "      <td>State_1</td>\n",
       "      <td>Commercial</td>\n",
       "      <td>Warehouse_Nonrefrigerated</td>\n",
       "      <td>66000.0</td>\n",
       "      <td>1985.0</td>\n",
       "      <td>100.0</td>\n",
       "      <td>2.4</td>\n",
       "      <td>36</td>\n",
       "      <td>50.500000</td>\n",
       "      <td>...</td>\n",
       "      <td>14</td>\n",
       "      <td>0</td>\n",
       "      <td>0</td>\n",
       "      <td>0</td>\n",
       "      <td>1.0</td>\n",
       "      <td>1.0</td>\n",
       "      <td>1.0</td>\n",
       "      <td>NaN</td>\n",
       "      <td>3.899395</td>\n",
       "      <td>4</td>\n",
       "    </tr>\n",
       "    <tr>\n",
       "      <th>...</th>\n",
       "      <td>...</td>\n",
       "      <td>...</td>\n",
       "      <td>...</td>\n",
       "      <td>...</td>\n",
       "      <td>...</td>\n",
       "      <td>...</td>\n",
       "      <td>...</td>\n",
       "      <td>...</td>\n",
       "      <td>...</td>\n",
       "      <td>...</td>\n",
       "      <td>...</td>\n",
       "      <td>...</td>\n",
       "      <td>...</td>\n",
       "      <td>...</td>\n",
       "      <td>...</td>\n",
       "      <td>...</td>\n",
       "      <td>...</td>\n",
       "      <td>...</td>\n",
       "      <td>...</td>\n",
       "      <td>...</td>\n",
       "      <td>...</td>\n",
       "    </tr>\n",
       "    <tr>\n",
       "      <th>16530</th>\n",
       "      <td>1</td>\n",
       "      <td>State_6</td>\n",
       "      <td>Residential</td>\n",
       "      <td>Multifamily_Uncategorized</td>\n",
       "      <td>371347.0</td>\n",
       "      <td>1931.0</td>\n",
       "      <td>14.0</td>\n",
       "      <td>3.4</td>\n",
       "      <td>6</td>\n",
       "      <td>29.677419</td>\n",
       "      <td>...</td>\n",
       "      <td>84</td>\n",
       "      <td>16</td>\n",
       "      <td>1</td>\n",
       "      <td>0</td>\n",
       "      <td>1.0</td>\n",
       "      <td>1.0</td>\n",
       "      <td>1.0</td>\n",
       "      <td>12.0</td>\n",
       "      <td>111.330128</td>\n",
       "      <td>16530</td>\n",
       "    </tr>\n",
       "    <tr>\n",
       "      <th>16531</th>\n",
       "      <td>1</td>\n",
       "      <td>State_6</td>\n",
       "      <td>Commercial</td>\n",
       "      <td>Education_College_or_university</td>\n",
       "      <td>131979.0</td>\n",
       "      <td>1956.0</td>\n",
       "      <td>NaN</td>\n",
       "      <td>3.4</td>\n",
       "      <td>6</td>\n",
       "      <td>29.677419</td>\n",
       "      <td>...</td>\n",
       "      <td>84</td>\n",
       "      <td>16</td>\n",
       "      <td>1</td>\n",
       "      <td>0</td>\n",
       "      <td>1.0</td>\n",
       "      <td>1.0</td>\n",
       "      <td>1.0</td>\n",
       "      <td>12.0</td>\n",
       "      <td>131.941209</td>\n",
       "      <td>16531</td>\n",
       "    </tr>\n",
       "    <tr>\n",
       "      <th>16532</th>\n",
       "      <td>1</td>\n",
       "      <td>State_6</td>\n",
       "      <td>Commercial</td>\n",
       "      <td>Education_College_or_university</td>\n",
       "      <td>183559.0</td>\n",
       "      <td>1848.0</td>\n",
       "      <td>NaN</td>\n",
       "      <td>3.4</td>\n",
       "      <td>6</td>\n",
       "      <td>29.677419</td>\n",
       "      <td>...</td>\n",
       "      <td>84</td>\n",
       "      <td>16</td>\n",
       "      <td>1</td>\n",
       "      <td>0</td>\n",
       "      <td>1.0</td>\n",
       "      <td>1.0</td>\n",
       "      <td>1.0</td>\n",
       "      <td>12.0</td>\n",
       "      <td>134.735252</td>\n",
       "      <td>16532</td>\n",
       "    </tr>\n",
       "    <tr>\n",
       "      <th>16533</th>\n",
       "      <td>1</td>\n",
       "      <td>State_6</td>\n",
       "      <td>Commercial</td>\n",
       "      <td>Nursing_Home</td>\n",
       "      <td>59479.0</td>\n",
       "      <td>1968.0</td>\n",
       "      <td>15.0</td>\n",
       "      <td>3.4</td>\n",
       "      <td>6</td>\n",
       "      <td>29.677419</td>\n",
       "      <td>...</td>\n",
       "      <td>84</td>\n",
       "      <td>16</td>\n",
       "      <td>1</td>\n",
       "      <td>0</td>\n",
       "      <td>1.0</td>\n",
       "      <td>1.0</td>\n",
       "      <td>1.0</td>\n",
       "      <td>12.0</td>\n",
       "      <td>187.599239</td>\n",
       "      <td>16533</td>\n",
       "    </tr>\n",
       "    <tr>\n",
       "      <th>16534</th>\n",
       "      <td>1</td>\n",
       "      <td>State_6</td>\n",
       "      <td>Residential</td>\n",
       "      <td>Multifamily_Uncategorized</td>\n",
       "      <td>214329.0</td>\n",
       "      <td>1966.0</td>\n",
       "      <td>16.0</td>\n",
       "      <td>3.4</td>\n",
       "      <td>6</td>\n",
       "      <td>29.677419</td>\n",
       "      <td>...</td>\n",
       "      <td>84</td>\n",
       "      <td>16</td>\n",
       "      <td>1</td>\n",
       "      <td>0</td>\n",
       "      <td>1.0</td>\n",
       "      <td>1.0</td>\n",
       "      <td>1.0</td>\n",
       "      <td>12.0</td>\n",
       "      <td>265.795023</td>\n",
       "      <td>16534</td>\n",
       "    </tr>\n",
       "  </tbody>\n",
       "</table>\n",
       "<p>2117 rows × 64 columns</p>\n",
       "</div>"
      ],
      "text/plain": [
       "       Year_Factor State_Factor building_class  \\\n",
       "0                1      State_1     Commercial   \n",
       "1                1      State_1     Commercial   \n",
       "2                1      State_1     Commercial   \n",
       "3                1      State_1     Commercial   \n",
       "4                1      State_1     Commercial   \n",
       "...            ...          ...            ...   \n",
       "16530            1      State_6    Residential   \n",
       "16531            1      State_6     Commercial   \n",
       "16532            1      State_6     Commercial   \n",
       "16533            1      State_6     Commercial   \n",
       "16534            1      State_6    Residential   \n",
       "\n",
       "                                   facility_type  floor_area  year_built  \\\n",
       "0                   Grocery_store_or_food_market     61242.0      1942.0   \n",
       "1      Warehouse_Distribution_or_Shipping_center    274000.0      1955.0   \n",
       "2                           Retail_Enclosed_mall    280025.0      1951.0   \n",
       "3                      Education_Other_classroom     55325.0      1980.0   \n",
       "4                      Warehouse_Nonrefrigerated     66000.0      1985.0   \n",
       "...                                          ...         ...         ...   \n",
       "16530                  Multifamily_Uncategorized    371347.0      1931.0   \n",
       "16531            Education_College_or_university    131979.0      1956.0   \n",
       "16532            Education_College_or_university    183559.0      1848.0   \n",
       "16533                               Nursing_Home     59479.0      1968.0   \n",
       "16534                  Multifamily_Uncategorized    214329.0      1966.0   \n",
       "\n",
       "       energy_star_rating  ELEVATION  january_min_temp  january_avg_temp  ...  \\\n",
       "0                    11.0        2.4                36         50.500000  ...   \n",
       "1                    45.0        1.8                36         50.500000  ...   \n",
       "2                    97.0        1.8                36         50.500000  ...   \n",
       "3                    46.0        1.8                36         50.500000  ...   \n",
       "4                   100.0        2.4                36         50.500000  ...   \n",
       "...                   ...        ...               ...               ...  ...   \n",
       "16530                14.0        3.4                 6         29.677419  ...   \n",
       "16531                 NaN        3.4                 6         29.677419  ...   \n",
       "16532                 NaN        3.4                 6         29.677419  ...   \n",
       "16533                15.0        3.4                 6         29.677419  ...   \n",
       "16534                16.0        3.4                 6         29.677419  ...   \n",
       "\n",
       "       days_above_80F  days_above_90F  days_above_100F  days_above_110F  \\\n",
       "0                  14               0                0                0   \n",
       "1                  14               0                0                0   \n",
       "2                  14               0                0                0   \n",
       "3                  14               0                0                0   \n",
       "4                  14               0                0                0   \n",
       "...               ...             ...              ...              ...   \n",
       "16530              84              16                1                0   \n",
       "16531              84              16                1                0   \n",
       "16532              84              16                1                0   \n",
       "16533              84              16                1                0   \n",
       "16534              84              16                1                0   \n",
       "\n",
       "       direction_max_wind_speed  direction_peak_wind_speed  max_wind_speed  \\\n",
       "0                           1.0                        1.0             1.0   \n",
       "1                           1.0                        NaN             1.0   \n",
       "2                           1.0                        NaN             1.0   \n",
       "3                           1.0                        NaN             1.0   \n",
       "4                           1.0                        1.0             1.0   \n",
       "...                         ...                        ...             ...   \n",
       "16530                       1.0                        1.0             1.0   \n",
       "16531                       1.0                        1.0             1.0   \n",
       "16532                       1.0                        1.0             1.0   \n",
       "16533                       1.0                        1.0             1.0   \n",
       "16534                       1.0                        1.0             1.0   \n",
       "\n",
       "       days_with_fog    site_eui     id  \n",
       "0                NaN  248.682615      0  \n",
       "1               12.0   26.500150      1  \n",
       "2               12.0   24.693619      2  \n",
       "3               12.0   48.406926      3  \n",
       "4                NaN    3.899395      4  \n",
       "...              ...         ...    ...  \n",
       "16530           12.0  111.330128  16530  \n",
       "16531           12.0  131.941209  16531  \n",
       "16532           12.0  134.735252  16532  \n",
       "16533           12.0  187.599239  16533  \n",
       "16534           12.0  265.795023  16534  \n",
       "\n",
       "[2117 rows x 64 columns]"
      ]
     },
     "execution_count": 189,
     "metadata": {},
     "output_type": "execute_result"
    }
   ],
   "source": [
    "train_df[train_df.Year_Factor==1]"
   ]
  },
  {
   "cell_type": "code",
   "execution_count": 199,
   "id": "297f0a2d",
   "metadata": {},
   "outputs": [
    {
     "data": {
      "text/plain": [
       "6    4141.0\n",
       "5    5362.0\n",
       "4    2067.0\n",
       "3    1821.0\n",
       "2    6941.0\n",
       "1       NaN\n",
       "Name: Year_Factor, dtype: float64"
      ]
     },
     "execution_count": 199,
     "metadata": {},
     "output_type": "execute_result"
    }
   ],
   "source": [
    "train_df.Year_Factor.value_counts().diff(-1)"
   ]
  },
  {
   "cell_type": "markdown",
   "id": "7f1032d7",
   "metadata": {},
   "source": [
    "can i weight my coefficients according to the data i have, should i divide every explanatory variable by its year total observations?\n",
    "can i run a differences in differences regression with unbalanced "
   ]
  }
 ],
 "metadata": {
  "kernelspec": {
   "display_name": "Python 3 (ipykernel)",
   "language": "python",
   "name": "python3"
  },
  "language_info": {
   "codemirror_mode": {
    "name": "ipython",
    "version": 3
   },
   "file_extension": ".py",
   "mimetype": "text/x-python",
   "name": "python",
   "nbconvert_exporter": "python",
   "pygments_lexer": "ipython3",
   "version": "3.9.2"
  }
 },
 "nbformat": 4,
 "nbformat_minor": 5
}
