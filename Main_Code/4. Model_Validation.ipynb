{
 "cells": [
  {
   "cell_type": "markdown",
   "metadata": {},
   "source": [
    "## 4. Model Validation\n",
    "\n",
    "- 4.1. Ensemble Modelling: Stacking \n",
    "- 4.2. Model Evaluation using Cross Validation"
   ]
  },
  {
   "cell_type": "code",
   "execution_count": null,
   "metadata": {},
   "outputs": [],
   "source": [
    "import os\n",
    "import numpy as np \n",
    "import pandas as pd \n",
    "import matplotlib.pyplot as plt\n",
    "import seaborn as sns\n",
    "from sklearn import preprocessing\n",
    "from sklearn.ensemble import RandomForestRegressor\n",
    "from lightgbm import LGBMRegressor\n",
    "from catboost import CatBoostRegressor\n",
    "from sklearn.ensemble import StackingRegressor\n",
    "from sklearn.linear_model import LinearRegression\n",
    "from xgboost import XGBRegressor\n",
    "from sklearn.pipeline import Pipeline\n",
    "from sklearn.model_selection import KFold\n",
    "from sklearn.svm import SVR\n",
    "from sklearn.model_selection import cross_val_score\n",
    "from sklearn.ensemble import GradientBoostingRegressor\n",
    "from sklearn import model_selection\n",
    "from sklearn.metrics import mean_squared_error\n",
    "import re\n",
    "from sklearn.linear_model import ElasticNet\n",
    "import pickle\n",
    "import warnings\n",
    "warnings.filterwarnings('ignore')"
   ]
  },
  {
   "cell_type": "code",
   "execution_count": 6,
   "metadata": {},
   "outputs": [],
   "source": [
    "train_input = pd.read_csv('data/3_train_model_input.csv')\n",
    "test_input = pd.read_csv('data/3_test_model_input.csv')\n",
    "\n",
    "X_train = train_input.iloc[:,0:6]\n",
    "y_train = train_input.iloc[:,-1]\n",
    "X_test = test_input.iloc[:,0:6]\n",
    "y_test = test_input.iloc[:,-1]"
   ]
  },
  {
   "cell_type": "markdown",
   "metadata": {},
   "source": [
    "### 4.1. Ensemble Modelling: Stacking "
   ]
  },
  {
   "cell_type": "code",
   "execution_count": 3,
   "metadata": {},
   "outputs": [],
   "source": [
    "#' @param  [no input]\n",
    "#' @returns an object which is the stacked ensemble model\n",
    "\n",
    "def stack():\n",
    "    # define the base models\n",
    "    # Takes too long to run due to parameters\n",
    "#     level0.append(('XGB', XGBRegressor(n_estimators = 50, max_depth = 10, learning_rate = 0.1)))\n",
    "#     level0.append(('SVR', SVR(C = 1000)))\n",
    "#     level0.append(('GBR', GradientBoostingRegressor(n_estimators = 300, max_depth = 4)))\n",
    "#     level0.append(('CATB', CatBoostRegressor())),\n",
    "#     level0.append(('ElNET', ElasticNet(alpha=0.0001291549665014884, l1_ratio=0.2, max_iter=200))),\n",
    "#     level0.append(('LGBM', LGBMRegressor(num_leaves = 500, feature_fraction = 0.6, bagging_freq = 50, learning_rate = 0.05)))\n",
    "    \n",
    "    level0 = list()\n",
    "    level0.append(('XGB', XGBRegressor()))\n",
    "    level0.append(('SVR', SVR()))\n",
    "    level0.append(('GBR', GradientBoostingRegressor()))\n",
    "    # level0.append(('CATB', CatBoostRegressor())),\n",
    "    level0.append(('ElNET', ElasticNet())),\n",
    "    level0.append(('LGBM', LGBMRegressor()))\n",
    "    # define meta learner model\n",
    "    level1 = LinearRegression()\n",
    "    # define the stacking ensemble\n",
    "    model = StackingRegressor(estimators=level0, final_estimator=level1, cv=10)\n",
    "    return model"
   ]
  },
  {
   "cell_type": "markdown",
   "metadata": {},
   "source": [
    "### 4.2. Model Evaluation using Cross Validation"
   ]
  },
  {
   "cell_type": "code",
   "execution_count": 4,
   "metadata": {},
   "outputs": [],
   "source": [
    "#' @param X_train: training dataframe with features\n",
    "#' @param y_train: training dataframe with site_eui\n",
    "#' @param X_test: testing dataframe with features\n",
    "#' @param y_test: testing dataframe with site_eui\n",
    "#' @return a dataframe with all the performance and time metrics for all the models listed below\n",
    "\n",
    "def validate_model(X_train, y_train, X_test, y_test) -> pd.DataFrame:\n",
    "    \n",
    "    dfs = []\n",
    "    models = [\n",
    "          ('Stack', stack()),\n",
    "          ('ElNet', ElasticNet(alpha=0.0001291549665014884, l1_ratio=0.2, max_iter=200)),     \n",
    "          ('XGB', XGBRegressor(n_estimators = 50, max_depth = 10, learning_rate = 0.1)), \n",
    "          ('LGBM', LGBMRegressor(num_leaves = 500, feature_fraction = 0.6, bagging_freq = 50,\n",
    "                                 learning_rate = 0.05)),\n",
    "          ('GBR', GradientBoostingRegressor(n_estimators = 300, max_depth = 4)),\n",
    "          ('SVR', SVR(C = 1000))\n",
    "#          ('CATB', CatBoostRegressor(n_estimators = 500, max_depth = 4, learning_rate = 0.1)),)\n",
    "          ]\n",
    "    results = []\n",
    "    names = []\n",
    "    scoring = ['neg_mean_squared_error', 'neg_mean_absolute_error', 'r2']\n",
    "\n",
    "    for name, model in models:\n",
    "        kfold = model_selection.RepeatedKFold(n_splits=5, n_repeats = 3, random_state=90210)\n",
    "        cv_results = model_selection.cross_validate(model, X_train, y_train, cv=kfold, scoring=scoring)\n",
    "        clf = model.fit(X_train, y_train)\n",
    "        f = 'models/{}.sav'.format(name)\n",
    "        pickle.dump(model, open(f, 'wb'))\n",
    "        y_pred = clf.predict(X_test)\n",
    "        print(name)\n",
    "        print(mean_squared_error(y_test, y_pred, squared = False))\n",
    "        \n",
    "        results.append(cv_results)\n",
    "        names.append(name)\n",
    "\n",
    "        final_results = pd.DataFrame(cv_results)\n",
    "        final_results['model'] = name\n",
    "        dfs.append(final_results)\n",
    "\n",
    "        final = pd.concat(dfs, ignore_index=True)\n",
    "        \n",
    "\n",
    "    return final"
   ]
  },
  {
   "cell_type": "code",
   "execution_count": 5,
   "metadata": {},
   "outputs": [
    {
     "name": "stdout",
     "output_type": "stream",
     "text": [
      "Stack\n",
      "18.764902454425087\n",
      "ElNet\n",
      "22.679059614368878\n",
      "XGB\n",
      "18.623098596947294\n",
      "[LightGBM] [Warning] feature_fraction is set=0.6, colsample_bytree=1.0 will be ignored. Current value: feature_fraction=0.6\n",
      "[LightGBM] [Warning] bagging_freq is set=50, subsample_freq=0 will be ignored. Current value: bagging_freq=50\n",
      "[LightGBM] [Warning] feature_fraction is set=0.6, colsample_bytree=1.0 will be ignored. Current value: feature_fraction=0.6\n",
      "[LightGBM] [Warning] bagging_freq is set=50, subsample_freq=0 will be ignored. Current value: bagging_freq=50\n",
      "[LightGBM] [Warning] feature_fraction is set=0.6, colsample_bytree=1.0 will be ignored. Current value: feature_fraction=0.6\n",
      "[LightGBM] [Warning] bagging_freq is set=50, subsample_freq=0 will be ignored. Current value: bagging_freq=50\n",
      "[LightGBM] [Warning] feature_fraction is set=0.6, colsample_bytree=1.0 will be ignored. Current value: feature_fraction=0.6\n",
      "[LightGBM] [Warning] bagging_freq is set=50, subsample_freq=0 will be ignored. Current value: bagging_freq=50\n",
      "[LightGBM] [Warning] feature_fraction is set=0.6, colsample_bytree=1.0 will be ignored. Current value: feature_fraction=0.6\n",
      "[LightGBM] [Warning] bagging_freq is set=50, subsample_freq=0 will be ignored. Current value: bagging_freq=50\n",
      "[LightGBM] [Warning] feature_fraction is set=0.6, colsample_bytree=1.0 will be ignored. Current value: feature_fraction=0.6\n",
      "[LightGBM] [Warning] bagging_freq is set=50, subsample_freq=0 will be ignored. Current value: bagging_freq=50\n",
      "[LightGBM] [Warning] feature_fraction is set=0.6, colsample_bytree=1.0 will be ignored. Current value: feature_fraction=0.6\n",
      "[LightGBM] [Warning] bagging_freq is set=50, subsample_freq=0 will be ignored. Current value: bagging_freq=50\n",
      "[LightGBM] [Warning] feature_fraction is set=0.6, colsample_bytree=1.0 will be ignored. Current value: feature_fraction=0.6\n",
      "[LightGBM] [Warning] bagging_freq is set=50, subsample_freq=0 will be ignored. Current value: bagging_freq=50\n",
      "[LightGBM] [Warning] feature_fraction is set=0.6, colsample_bytree=1.0 will be ignored. Current value: feature_fraction=0.6\n",
      "[LightGBM] [Warning] bagging_freq is set=50, subsample_freq=0 will be ignored. Current value: bagging_freq=50\n",
      "[LightGBM] [Warning] feature_fraction is set=0.6, colsample_bytree=1.0 will be ignored. Current value: feature_fraction=0.6\n",
      "[LightGBM] [Warning] bagging_freq is set=50, subsample_freq=0 will be ignored. Current value: bagging_freq=50\n",
      "[LightGBM] [Warning] feature_fraction is set=0.6, colsample_bytree=1.0 will be ignored. Current value: feature_fraction=0.6\n",
      "[LightGBM] [Warning] bagging_freq is set=50, subsample_freq=0 will be ignored. Current value: bagging_freq=50\n",
      "[LightGBM] [Warning] feature_fraction is set=0.6, colsample_bytree=1.0 will be ignored. Current value: feature_fraction=0.6\n",
      "[LightGBM] [Warning] bagging_freq is set=50, subsample_freq=0 will be ignored. Current value: bagging_freq=50\n",
      "[LightGBM] [Warning] feature_fraction is set=0.6, colsample_bytree=1.0 will be ignored. Current value: feature_fraction=0.6\n",
      "[LightGBM] [Warning] bagging_freq is set=50, subsample_freq=0 will be ignored. Current value: bagging_freq=50\n",
      "[LightGBM] [Warning] feature_fraction is set=0.6, colsample_bytree=1.0 will be ignored. Current value: feature_fraction=0.6\n",
      "[LightGBM] [Warning] bagging_freq is set=50, subsample_freq=0 will be ignored. Current value: bagging_freq=50\n",
      "[LightGBM] [Warning] feature_fraction is set=0.6, colsample_bytree=1.0 will be ignored. Current value: feature_fraction=0.6\n",
      "[LightGBM] [Warning] bagging_freq is set=50, subsample_freq=0 will be ignored. Current value: bagging_freq=50\n",
      "[LightGBM] [Warning] feature_fraction is set=0.6, colsample_bytree=1.0 will be ignored. Current value: feature_fraction=0.6\n",
      "[LightGBM] [Warning] bagging_freq is set=50, subsample_freq=0 will be ignored. Current value: bagging_freq=50\n",
      "LGBM\n",
      "18.500645345403143\n",
      "GBR\n",
      "19.160293693341192\n",
      "SVR\n",
      "19.704045500583575\n"
     ]
    }
   ],
   "source": [
    "final_result = validate_model(X_train, y_train, X_test, y_test)"
   ]
  },
  {
   "cell_type": "code",
   "execution_count": 6,
   "metadata": {},
   "outputs": [],
   "source": [
    "final_result.to_csv('data/4_validation_result.csv', index = False)  "
   ]
  },
  {
   "cell_type": "markdown",
   "metadata": {},
   "source": [
    "| **Model** | **RMSE** |\n",
    "|---|---|\n",
    "| Light Gradient Boosting Regressor | 18.501 |\n",
    "| Gradient Boosting Regressor | 19.160 |\n",
    "| Support Vector Regressor (Radial) | 19.704 |\n",
    "| XGBoost Regressor | 18.623 |\n",
    "| Elastic Net | 22.679 |\n",
    "| Stacked Ensemble |18.765  |"
   ]
  }
 ],
 "metadata": {
  "kernelspec": {
   "display_name": "Python 3",
   "language": "python",
   "name": "python3"
  },
  "language_info": {
   "codemirror_mode": {
    "name": "ipython",
    "version": 3
   },
   "file_extension": ".py",
   "mimetype": "text/x-python",
   "name": "python",
   "nbconvert_exporter": "python",
   "pygments_lexer": "ipython3",
   "version": "3.8.3"
  }
 },
 "nbformat": 4,
 "nbformat_minor": 4
}
