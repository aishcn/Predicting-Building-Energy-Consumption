{
 "cells": [
  {
   "cell_type": "code",
   "execution_count": null,
   "metadata": {},
   "outputs": [],
   "source": [
    "import numpy as np \n",
    "import pandas as pd\n",
    "import matplotlib.pyplot as plt\n",
    "import seaborn as sns\n",
    "from sklearn import preprocessing\n",
    "from sklearn.ensemble import RandomForestRegressor\n",
    "from lightgbm import LGBMRegressor\n",
    "from catboost import CatBoostRegressor\n",
    "from sklearn.ensemble import StackingRegressor\n",
    "from xgboost import XGBRegressor\n",
    "from sklearn.pipeline import Pipeline\n",
    "from sklearn.model_selection import KFold\n",
    "from sklearn.svm import SVR\n",
    "from sklearn.model_selection import cross_val_score\n",
    "from sklearn.ensemble import GradientBoostingRegressor\n",
    "from sklearn import model_selection\n",
    "from sklearn.metrics import mean_squared_error\n",
    "from sklearn.model_selection import RandomizedSearchCV, GridSearchCV\n",
    "from sklearn.linear_model import ElasticNet\n",
    "from nonconformist.cp import IcpRegressor\n",
    "from nonconformist.cp import IcpClassifier\n",
    "from nonconformist.nc import NcFactory\n",
    "import pickle\n",
    "import re\n",
    "import warnings\n",
    "warnings.filterwarnings('ignore')"
   ]
  },
  {
   "cell_type": "code",
   "execution_count": null,
   "metadata": {},
   "outputs": [],
   "source": [
    "final = pd.read_csv('validation_result_4.csv')"
   ]
  },
  {
   "cell_type": "code",
   "execution_count": null,
   "metadata": {},
   "outputs": [],
   "source": [
    "bootstraps = []\n",
    "for model in list(set(final.model.values)):\n",
    "    model_df = final.loc[final.model == model]\n",
    "    bootstrap = model_df.sample(n=50, replace=True)\n",
    "    bootstraps.append(bootstrap)\n",
    "        \n",
    "bootstrap_df = pd.concat(bootstraps, ignore_index=True)\n",
    "results_long = pd.melt(bootstrap_df,id_vars=['model'],var_name='metrics', value_name='values')\n",
    "time_metrics = ['fit_time','score_time'] # fit time metrics\n",
    "## PERFORMANCE METRICS\n",
    "results_long_nofit = results_long.loc[~results_long['metrics'].isin(time_metrics)] # get df without fit data\n",
    "results_long_nofit = results_long_nofit.sort_values(by='values')\n",
    "## TIME METRICS\n",
    "results_long_fit = results_long.loc[results_long['metrics'].isin(time_metrics)] # df with fit data\n",
    "results_long_fit = results_long_fit.sort_values(by='values')"
   ]
  },
  {
   "cell_type": "code",
   "execution_count": null,
   "metadata": {},
   "outputs": [],
   "source": [
    "metric_df = results_long_nofit[results_long_nofit.metrics == 'test_neg_mean_squared_error']\n",
    "metric_df['values'] = (metric_df['values']*(-1))**(1/2)"
   ]
  },
  {
   "cell_type": "code",
   "execution_count": null,
   "metadata": {},
   "outputs": [],
   "source": [
    "plt.figure(figsize=(20, 12))\n",
    "sns.set(font_scale=2.5)\n",
    "g = sns.boxplot(x=\"model\", y=\"values\", hue=\"model\", data=metric_df, palette=\"Set3\")\n",
    "plt.legend(bbox_to_anchor=(1.05, 1), loc=2, borderaxespad=0.)\n",
    "plt.title('Comparison of Model by RMSE')"
   ]
  },
  {
   "cell_type": "code",
   "execution_count": null,
   "metadata": {},
   "outputs": [],
   "source": [
    "metric_df = results_long_nofit[results_long_nofit.metrics == 'test_r2']"
   ]
  },
  {
   "cell_type": "code",
   "execution_count": null,
   "metadata": {},
   "outputs": [],
   "source": [
    "plt.figure(figsize=(20, 12))\n",
    "sns.set(font_scale=2.5)\n",
    "g = sns.boxplot(x=\"model\", y=\"values\", hue=\"model\", data=metric_df, palette=\"Set3\")\n",
    "plt.legend(bbox_to_anchor=(1.05, 1), loc=2, borderaxespad=0.)\n",
    "plt.title('Comparison of Model by R-squared')"
   ]
  },
  {
   "cell_type": "code",
   "execution_count": null,
   "metadata": {},
   "outputs": [],
   "source": [
    "plt.figure(figsize=(20, 12))\n",
    "sns.set(font_scale=2.5)\n",
    "g = sns.boxplot(x=\"model\", y=\"values\", hue=\"model\", data=results_long_fit[results_long_fit.metrics =='fit_time'], palette=\"Set3\")\n",
    "plt.legend(bbox_to_anchor=(1.05, 1), loc=2, borderaxespad=0.)\n",
    "plt.title('Comparison of Model by Fit Time')\n",
    "#plt.savefig('./benchmark_models_time.png',dpi=300)"
   ]
  },
  {
   "cell_type": "code",
   "execution_count": null,
   "metadata": {},
   "outputs": [],
   "source": [
    "plt.figure(figsize=(20, 12))\n",
    "sns.set(font_scale=2.5)\n",
    "g = sns.boxplot(x=\"model\", y=\"values\", hue=\"model\", data=results_long_fit[(results_long_fit.metrics =='fit_time') & \n",
    "                                                                            (results_long_fit.model != 'Stack') &\n",
    "                                                                           (results_long_fit.model != 'SVR')], palette=\"Set3\")\n",
    "plt.legend(bbox_to_anchor=(1.05, 1), loc=2, borderaxespad=0.)\n",
    "plt.title('Comparison of Model by FitTime')"
   ]
  },
  {
   "cell_type": "code",
   "execution_count": null,
   "metadata": {},
   "outputs": [],
   "source": [
    "metric_df['values'] = (metric_df['values']*(-1))**(1/2)\n",
    "metrics = list(set(results_long_nofit.metrics.values))\n",
    "bootstrap_df.groupby(['model'])[metrics].agg([np.std, np.mean])"
   ]
  },
  {
   "cell_type": "code",
   "execution_count": null,
   "metadata": {},
   "outputs": [],
   "source": [
    "time_metrics = list(set(results_long_fit.metrics.values))\n",
    "bootstrap_df.groupby(['model'])[time_metrics].agg([np.std, np.mean])"
   ]
  },
  {
   "cell_type": "code",
   "execution_count": null,
   "metadata": {},
   "outputs": [],
   "source": [
    "GBR = pickle.load(open('models/GBR.sav', 'rb'))\n",
    "LGBM = pickle.load(open('models/LGBM.sav', 'rb'))\n",
    "Stack = pickle.load(open('models/Stack.sav', 'rb'))\n",
    "SVR = pickle.load(open('models/SVR.sav', 'rb'))\n",
    "XGB = pickle.load(open('models/XGB.sav', 'rb'))\n",
    "ElNet = pickle.load(open('models/ElNet.sav', 'rb'))"
   ]
  },
  {
   "cell_type": "code",
   "execution_count": null,
   "metadata": {},
   "outputs": [],
   "source": [
    "train_percentage = 0.8\n",
    "cal_percentage = 0.2\n",
    "n_total = X_train.shape[0]\n",
    "n_train = int(train_percentage*n_total)\n",
    "n_cal = int(cal_percentage*n_total) + n_train\n",
    "train_data = X_train.iloc[:n_train, :]\n",
    "train_target = y_train.iloc[:n_train]\n",
    "cal_data = X_train.iloc[n_train:n_cal, :]\n",
    "cal_target = y_train.iloc[n_train:n_cal]\n",
    "test_data = X_test\n",
    "test_target = y_test"
   ]
  },
  {
   "cell_type": "code",
   "execution_count": null,
   "metadata": {},
   "outputs": [],
   "source": [
    "def PI(model, level1, level2):\n",
    "    \n",
    "    # Default nonconformity measure\n",
    "    nc = NcFactory.create_nc(model)\n",
    "    # Inductive conformal regressor\n",
    "    icp = IcpRegressor(nc)\n",
    "    # Fit the ICP using the proper training set\n",
    "    icp.fit(train_data.values, train_target.values)\n",
    "    # Calibrate the ICP using the calibration set\n",
    "    icp.calibrate(cal_data.values, cal_target.values)\n",
    "\n",
    "    # Produce predictions for the test set\n",
    "    prediction1 = icp.predict(test_data.values, significance=(1-level1))\n",
    "    lower_1 = prediction1[:, 0]\n",
    "    upper_1 = prediction1[:, 1]\n",
    "\n",
    "    prediction2 = icp.predict(test_data.values, significance=(1-level2))\n",
    "    lower_2 = prediction2[:, 0]\n",
    "    upper_2 = prediction2[:, 1]\n",
    "\n",
    "    df_50 = pd.DataFrame()\n",
    "    df_80 = pd.DataFrame()\n",
    "    df_50 = df_50.append(pd.DataFrame({'pred': model.predict(test_data.values),\n",
    "                      'LB': lower_1,\n",
    "                      'UB': upper_1}\n",
    "                     ))\n",
    "    \n",
    "    df_80 = df_80.append(pd.DataFrame({'pred': model.predict(test_data.values),\n",
    "                      'LB': lower_2,\n",
    "                      'UB': upper_2}\n",
    "                     ))\n",
    "        \n",
    "    return df_50, df_80"
   ]
  },
  {
   "cell_type": "code",
   "execution_count": null,
   "metadata": {},
   "outputs": [],
   "source": [
    "%%time\n",
    "PI_LGBM = PI(LGBM,0.5,0.8)"
   ]
  },
  {
   "cell_type": "code",
   "execution_count": null,
   "metadata": {},
   "outputs": [],
   "source": [
    "%%time\n",
    "PI_SVR = PI(SVR,0.5,0.8)"
   ]
  },
  {
   "cell_type": "code",
   "execution_count": null,
   "metadata": {},
   "outputs": [],
   "source": [
    "%%time\n",
    "PI_ElNet = PI(ElNet,0.5,0.8)"
   ]
  },
  {
   "cell_type": "code",
   "execution_count": null,
   "metadata": {},
   "outputs": [],
   "source": [
    "%%time\n",
    "PI_GBR = PI(GBR,0.5,0.8)"
   ]
  },
  {
   "cell_type": "code",
   "execution_count": null,
   "metadata": {},
   "outputs": [],
   "source": [
    "%%time\n",
    "PI_XGB = PI(XGB,0.5,0.8)"
   ]
  },
  {
   "cell_type": "code",
   "execution_count": null,
   "metadata": {},
   "outputs": [],
   "source": [
    "%%time\n",
    "PI_Stack = PI(Stack, 0.5,0.8)"
   ]
  },
  {
   "cell_type": "code",
   "execution_count": null,
   "metadata": {},
   "outputs": [],
   "source": [
    "def intervalScore(predObj,actual,level):\n",
    "    n = len(predObj)\n",
    "    alpha = 1 - level\n",
    "    upper = predObj.loc[:,'UB']\n",
    "    lower = predObj.loc[:,'LB']\n",
    "    ilow = (actual.values<lower)\n",
    "    ihigh = (actual.values>upper)\n",
    "    sumlength = sum(upper-lower)\n",
    "    sumlow = sum(predObj.loc[ilow,'LB']-actual.values[ilow])*2/alpha\n",
    "    sumhigh = sum(actual.values[ihigh]-predObj.loc[ihigh,'UB'])*2/alpha\n",
    "    avglength = sumlength/n\n",
    "    IS = (sumlength+sumlow+sumhigh)/n # average length + average under/over penalties\n",
    "    cover = ((actual.values>= lower) & (actual.values<=upper)).mean()\n",
    "    summ = pd.DataFrame(np.array([[level,avglength,IS,cover]]), columns = ['level','avglength', 'IS', 'cover'])\n",
    "    return summ"
   ]
  },
  {
   "cell_type": "code",
   "execution_count": null,
   "metadata": {},
   "outputs": [],
   "source": [
    "intervalScore(PI_LGBM[0], test_target, 0.5)"
   ]
  },
  {
   "cell_type": "code",
   "execution_count": null,
   "metadata": {},
   "outputs": [],
   "source": [
    "intervalScore(PI_LGBM[1], test_target, 0.8)"
   ]
  },
  {
   "cell_type": "code",
   "execution_count": null,
   "metadata": {},
   "outputs": [],
   "source": [
    "intervalScore(PI_GBR[0], test_target, 0.5)"
   ]
  },
  {
   "cell_type": "code",
   "execution_count": null,
   "metadata": {},
   "outputs": [],
   "source": [
    "intervalScore(PI_GBR[1], test_target, 0.8)"
   ]
  },
  {
   "cell_type": "code",
   "execution_count": null,
   "metadata": {},
   "outputs": [],
   "source": [
    "intervalScore(PI_XGB[0], test_target, 0.5)"
   ]
  },
  {
   "cell_type": "code",
   "execution_count": null,
   "metadata": {},
   "outputs": [],
   "source": [
    "intervalScore(PI_XGB[1], test_target, 0.8)"
   ]
  },
  {
   "cell_type": "code",
   "execution_count": null,
   "metadata": {},
   "outputs": [],
   "source": [
    "intervalScore(PI_ElNet[0], test_target, 0.5)"
   ]
  },
  {
   "cell_type": "code",
   "execution_count": null,
   "metadata": {},
   "outputs": [],
   "source": [
    "intervalScore(PI_ElNet[1], test_target, 0.8)"
   ]
  },
  {
   "cell_type": "code",
   "execution_count": null,
   "metadata": {},
   "outputs": [],
   "source": [
    "intervalScore(PI_SVR[0], test_target, 0.5)"
   ]
  },
  {
   "cell_type": "code",
   "execution_count": null,
   "metadata": {},
   "outputs": [],
   "source": [
    "intervalScore(PI_SVR[1], test_target, 0.8)"
   ]
  },
  {
   "cell_type": "code",
   "execution_count": null,
   "metadata": {},
   "outputs": [],
   "source": [
    "intervalScore(PI_Stack[0], test_target, 0.5)"
   ]
  },
  {
   "cell_type": "code",
   "execution_count": null,
   "metadata": {},
   "outputs": [],
   "source": [
    "intervalScore(PI_Stack[1], test_target, 0.8)"
   ]
  },
  {
   "cell_type": "markdown",
   "metadata": {},
   "source": [
    "| **Model** | **Level** | **Avg Length** | **IS** | **Coverage** | |\n",
    "|---|---|---|---|---|---|\n",
    "| LGBM | 0.5|23.675021|58.053079|0.493913 | |\n",
    "| SVR | 0.5  | 23.266499  | 57.622133 | 0.502122 | |\n",
    "| GBR | 0.5|24.705315|58.114026|0.506226 | |\n",
    "|Elnet| 0.5|29.155639|65.155167|0.50087| |\n",
    "| XGB | 0.5|23.855599|57.693341|0.504765 | |\n",
    "| Stack | 0.5 | 24.337802 | 57.656382 |0.505113 | * |"
   ]
  },
  {
   "cell_type": "markdown",
   "metadata": {},
   "source": [
    "| **Model** | **Level** | **Avg Length** | **IS** | **Coverage** | |\n",
    "|---|---|---|---|---|---|\n",
    "| LGBM | 0.8|54.604375|89.739934|0.79847 | |\n",
    "| SVR | 0.8 | 53.119757 | 89.999751 | 0.792765 | |\n",
    "| GBR | 0.8|54.755009|89.174804|0.794643 | |\n",
    "|ElNet| 0.8|64.46488|96.675231|0.798817 | |\n",
    "| XGB | 0.8|54.164624|89.305558|0.7992355 | |\n",
    "| Stack | 0.8 | 54.447974 | 88.648392 |0.797287|* |"
   ]
  },
  {
   "cell_type": "code",
   "execution_count": null,
   "metadata": {},
   "outputs": [],
   "source": [
    "plt.figure(figsize=(10,10))\n",
    "plt.scatter(test_target, PI_Stack[0].iloc[:,0], c='crimson',marker = 'x')\n",
    "\n",
    "p1 = max(max(PI_Stack[0].iloc[:,0]), max(test_target))\n",
    "p2 = min(min(PI_Stack[0].iloc[:,0]), min(test_target))\n",
    "plt.plot([p1, p2], [p1, p2], 'b-')\n",
    "plt.xlabel('True Values', fontsize=15)\n",
    "plt.ylabel('Predictions', fontsize=15)\n",
    "plt.axis('equal')\n",
    "plt.show()"
   ]
  },
  {
   "cell_type": "code",
   "execution_count": null,
   "metadata": {},
   "outputs": [],
   "source": []
  },
  {
   "cell_type": "code",
   "execution_count": null,
   "metadata": {},
   "outputs": [],
   "source": []
  }
 ],
 "metadata": {
  "kernelspec": {
   "display_name": "Python 3",
   "language": "python",
   "name": "python3"
  },
  "language_info": {
   "codemirror_mode": {
    "name": "ipython",
    "version": 3
   },
   "file_extension": ".py",
   "mimetype": "text/x-python",
   "name": "python",
   "nbconvert_exporter": "python",
   "pygments_lexer": "ipython3",
   "version": "3.8.3"
  }
 },
 "nbformat": 4,
 "nbformat_minor": 4
}
